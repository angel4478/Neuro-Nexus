{
 "cells": [
  {
   "cell_type": "code",
   "execution_count": 51,
   "id": "6280fae9-9943-43a4-ad26-786f8380d9b4",
   "metadata": {},
   "outputs": [
    {
     "name": "stdout",
     "output_type": "stream",
     "text": [
      "Step 1: Pick Two Cards\n",
      "-------------------------\n",
      "|  .------.    .------.  |\n",
      "|  |      |    |      |  |\n",
      "|  |      |    |      |  |\n",
      "|  |      |    |      |  |\n",
      "|  |      |    |      |  |\n",
      "|  `------'    `------'  |\n",
      "-------------------------\n",
      "A) If both cards are identical, they will stay face up\n",
      "Example: \n",
      "---------------------------------------------------\n",
      "|  .------.    .------.  ->  .------.    .------.  |\n",
      "|  |N.--. |    |N.--. |  ->  |N.--. |    |N.--. |  |\n",
      "|  | :(): |    | :(): |  ->  | :(): |    | :(): |  |\n",
      "|  | ()() |    | ()() |  ->  | ()() |    | ()() |  |\n",
      "|  | '--'N|    | '--'N|  ->  | '--'N|    | '--'N|  |\n",
      "|  `------'    `------'  ->  `------'    `------'  |\n",
      "---------------------------------------------------\n",
      "B) If the cards are different, they will face down again\n",
      "Example: \n",
      "---------------------------------------------------\n",
      "|  .------.    .------.  ->  .------.    .------.  |\n",
      "|  |N.--. |    |N.--. |  ->  |      |    |      |  |\n",
      "|  | :(): |    | :(): |  ->  |      |    |      |  |\n",
      "|  | ()() |    | ()() |  ->  |      |    |      |  |\n",
      "|  | '--'N|    | '--'N|  ->  |      |    |      |  |\n",
      "|  `------'    `------'  ->  `------'    `------'  |\n",
      "---------------------------------------------------\n",
      "Step 2: Continue picking pairs until all cards are face up\n"
     ]
    }
   ],
   "source": [
    "def box(pair1, pair2):\n",
    "    print(\"-\" * 51)\n",
    "    for i, j in zip(pair1, pair2):\n",
    "        print(\"|  \" + i + \"  ->  \" + j + \"  |\")\n",
    "    print(\"-\" * 51)\n",
    "    return\n",
    "\n",
    "def info():\n",
    "    cards = [\".------.    .------.\",\n",
    "    \"|N.--. |    |N.--. |\",\n",
    "    \"| :(): |    | :(): |\",\n",
    "    \"| ()() |    | ()() |\",\n",
    "    \"| '--'N|    | '--'N|\",\n",
    "    \"`------'    `------'\"]\n",
    "    backcards = [\".------.    .------.\",\n",
    "    \"|      |    |      |\",\n",
    "    \"|      |    |      |\",\n",
    "    \"|      |    |      |\",\n",
    "    \"|      |    |      |\",\n",
    "    \"`------'    `------'\"]\n",
    "    print(\"Step 1: Pick Two Cards\")\n",
    "    print(\"-\" * 25)\n",
    "    for i in backcards:\n",
    "        print(\"|  \" + i + \"  |\")\n",
    "    print(\"-\" * 25)\n",
    "    \n",
    "    print(\"A) If both cards are identical, they will stay face up\")\n",
    "    print(\"Example: \")\n",
    "    box(cards, cards)\n",
    "    \n",
    "    print(\"B) If the cards are different, they will face down again\")\n",
    "    print(\"Example: \")\n",
    "    box(cards, backcards)\n",
    "\n",
    "    print(\"Step 2: Continue picking pairs until all cards are face up\")\n",
    "    return\n",
    "\n",
    "info()"
   ]
  },
  {
   "cell_type": "code",
   "execution_count": null,
   "id": "4b7c7347-294a-4e3f-856e-978f2bbe77ed",
   "metadata": {},
   "outputs": [],
   "source": []
  }
 ],
 "metadata": {
  "kernelspec": {
   "display_name": "Python [conda env:base] *",
   "language": "python",
   "name": "conda-base-py"
  },
  "language_info": {
   "codemirror_mode": {
    "name": "ipython",
    "version": 3
   },
   "file_extension": ".py",
   "mimetype": "text/x-python",
   "name": "python",
   "nbconvert_exporter": "python",
   "pygments_lexer": "ipython3",
   "version": "3.12.7"
  }
 },
 "nbformat": 4,
 "nbformat_minor": 5
}
